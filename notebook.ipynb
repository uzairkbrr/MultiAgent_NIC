{
 "cells": [
  {
   "cell_type": "code",
   "execution_count": 96,
   "id": "d04354d6",
   "metadata": {},
   "outputs": [
    {
     "data": {
      "text/plain": [
       "True"
      ]
     },
     "execution_count": 96,
     "metadata": {},
     "output_type": "execute_result"
    }
   ],
   "source": [
    "from langgraph.graph import StateGraph,START,END\n",
    "from typing import TypedDict,Annotated, Literal\n",
    "from langchain_core.messages import BaseMessage\n",
    "from langchain_groq import ChatGroq\n",
    "from langgraph.checkpoint.memory import InMemorySaver\n",
    "from langgraph.graph.message import add_messages\n",
    "from dotenv import load_dotenv\n",
    "from pydantic import BaseModel, Field\n",
    "from datetime import datetime\n",
    "import uuid\n",
    "\n",
    "load_dotenv()"
   ]
  },
  {
   "cell_type": "code",
   "execution_count": 97,
   "id": "fa6ce044",
   "metadata": {},
   "outputs": [],
   "source": [
    "model = ChatGroq(model=\"llama-3.1-8b-instant\")"
   ]
  },
  {
   "cell_type": "code",
   "execution_count": 98,
   "id": "f19c4d5f",
   "metadata": {},
   "outputs": [],
   "source": [
    "class SessionState(BaseModel):\n",
    "    \"\"\"Metadata for session tracking\"\"\"\n",
    "    session_id: str = f\"{datetime.now().strftime('%Y%m%d')}_{datetime.now().strftime('%H%M%S')}\"\n",
    "    session_focus:str = Field(description=\"Brief description of session focus\")\n",
    "    dominant_psychological_state: Literal[\"child_self\", \"adult_self\", \"mixed\"] = Field(default=\"mixed\")\n",
    "    crisis_level: Literal[\"low\", \"medium\", \"high\"] = Field(default=\"low\")\n",
    "    session_stage: Literal[\"opening\", \"exploration\", \"intervention\", \"processing\", \"closing\"] = Field(default=\"opening\")\n",
    "    therapeutic_alliance: Literal[\"strong\", \"developing\", \"weak\"] = Field(default=\"developing\")\n",
    "\n",
    "class ClientProfile(BaseModel):\n",
    "    \"\"\"Client information and psychological profile\"\"\"\n",
    "    client_id:str = Field(description=\"Unique identifier for the client\")\n",
    "    client_name:str = Field(description=\"Name of the client\")\n",
    "    client_age:int = Field(default=0,description=\"Age of the client\")\n",
    "    primary_concerns: list[str] = Field(default_factory=list, description=\"Main therapeutic concerns\")\n",
    "    trauma_history: list[str] = Field(default_factory=list, description=\"Known trauma history\")\n",
    "    current_medications: list[str] = Field(default_factory=list, description=\"Current medications\")\n",
    "    previous_therapy_experience: bool = Field(default=False, description=\"Has previous therapy experience\")\n",
    "\n",
    "class PsychologicalAssessment(BaseModel):\n",
    "    \"\"\"Current psychological state assessment\"\"\"\n",
    "    emotional_intensity: int = Field(default=5, ge=1, le=10, description=\"Emotional intensity rating 1-10\")\n",
    "    emotional_stability: Literal[\"stable\", \"fluctuating\", \"volatile\"] = Field(default=\"stable\")\n",
    "    self_criticism_level: Literal[\"low\", \"medium\", \"high\"] = Field(default=\"medium\")\n",
    "    self_compassion_level: Literal[\"low\", \"medium\", \"high\"] = Field(default=\"medium\")\n",
    "    adult_self_rating: int = Field(default=5, ge=1, le=10, description=\"Adult self functioning rating\")\n",
    "    child_self_rating: int = Field(default=5, ge=1, le=10, description=\"Child self activation rating\")\n",
    "\n",
    "class TherapeuticOpportunities(BaseModel):\n",
    "    \"\"\"Identified opportunities for therapeutic intervention\"\"\"\n",
    "    perspective_shifting_moments: list[str] = Field(default_factory=list)\n",
    "    compassion_building_opportunities: list[str] = Field(default_factory=list)\n",
    "    adult_self_activation_points: list[str] = Field(default_factory=list)\n",
    "    trauma_processing_areas: list[str] = Field(default_factory=list)\n",
    "\n",
    "class SessionRecommendations(BaseModel):\n",
    "    \"\"\"Recommendations for current and future sessions\"\"\"\n",
    "    immediate_interventions: list[str] = Field(default_factory=list)\n",
    "    homework_suggestions: list[str] = Field(default_factory=list)\n",
    "    follow_up_areas: list[str] = Field(default_factory=list)\n",
    "    crisis_monitoring: list[str] = Field(default_factory=list)\n",
    "\n",
    "class AnalysisResults(BaseModel):\n",
    "    \"\"\"Results of the session analysis\"\"\"\n",
    "    named_entities: dict = Field(default_factory=dict, description=\"Extracted people, places, events, etc.\")\n",
    "    emotional_state: dict = Field(default_factory=dict, description=\"Current emotional assessment\")\n",
    "    trauma_indicators: list[dict] = Field(default_factory=list, description=\"Identified trauma markers\")\n",
    "    coping_mechanisms: dict = Field(default_factory=dict, description=\"Healthy and unhealthy coping strategies\")\n",
    "    relationship_patterns: list[dict] = Field(default_factory=list, description=\"Identified relationship patterns\")\n",
    "    progress_indicators: dict = Field(default_factory=dict, description=\"Signs of progress or concern\")"
   ]
  },
  {
   "cell_type": "markdown",
   "id": "adeb9e8f",
   "metadata": {},
   "source": [
    "### State"
   ]
  },
  {
   "cell_type": "code",
   "execution_count": 99,
   "id": "ce72a4a1",
   "metadata": {},
   "outputs": [],
   "source": [
    "class State(TypedDict):\n",
    "    \"\"\"State for the session graph\"\"\"\n",
    "    messages: Annotated[list[BaseMessage], add_messages]\n",
    "    session_metadata: SessionState\n",
    "    client_profile: ClientProfile\n",
    "    psychological_assessment: PsychologicalAssessment\n",
    "    therapeutic_opportunities: TherapeuticOpportunities\n",
    "    session_recommendations: SessionRecommendations\n",
    "    analysis_results: AnalysisResults"
   ]
  },
  {
   "cell_type": "markdown",
   "id": "e14a9da6",
   "metadata": {},
   "source": [
    "### Structured Output"
   ]
  },
  {
   "cell_type": "code",
   "execution_count": 100,
   "id": "094d7878",
   "metadata": {},
   "outputs": [],
   "source": [
    "class PersonEntity(BaseModel):\n",
    "    \"\"\"Named person in the client's narrative\"\"\"\n",
    "    name: str = Field(description=\"Name of the person mentioned\")\n",
    "    relationship: str = Field(description=\"Relationship to the client (e.g., 'mother', 'ex-partner', 'friend')\")\n",
    "    significance: str = Field(description=\"Why this person is significant in the therapeutic context\")\n",
    "    emotional_charge: Literal[\"positive\", \"negative\", \"neutral\"] = Field(description=\"Emotional association the client has with this person\")\n",
    "\n",
    "class PlaceEntity(BaseModel):\n",
    "    \"\"\"Named place in the client's narrative\"\"\"\n",
    "    location: str = Field(description=\"Name or description of the place\")\n",
    "    context: str = Field(description=\"Context in which this place was mentioned\")\n",
    "    emotional_association: str = Field(description=\"Emotional significance of this place to the client\")\n",
    "\n",
    "class EventEntity(BaseModel):\n",
    "    \"\"\"Significant event in the client's narrative\"\"\"\n",
    "    event: str = Field(description=\"Description of the event\")\n",
    "    timeframe: str = Field(description=\"When this event occurred (e.g., 'childhood', 'last year', 'recently')\")\n",
    "    trauma_relevance: Literal[\"high\", \"medium\", \"low\"] = Field(description=\"How relevant this event is to trauma processing\")\n",
    "    description: str = Field(description=\"Additional therapeutic context about this event\")\n",
    "\n",
    "class SubstanceEntity(BaseModel):\n",
    "    \"\"\"Substance use mentioned by client\"\"\"\n",
    "    substance: str = Field(description=\"Type of substance (alcohol, drugs, medication, etc.)\")\n",
    "    usage_pattern: str = Field(description=\"How the substance is being used\")\n",
    "    context: str = Field(description=\"Context around substance use - coping mechanism, medical, social, etc.\")\n",
    "\n",
    "class NamedEntities(BaseModel):\n",
    "    \"\"\"Collection of named entities extracted from client response\"\"\"\n",
    "    people: list[PersonEntity] = Field(default_factory=list, description=\"People mentioned by the client\")\n",
    "    places: list[PlaceEntity] = Field(default_factory=list, description=\"Places mentioned by the client\")\n",
    "    events: list[EventEntity] = Field(default_factory=list, description=\"Significant events mentioned by the client\")\n",
    "    substances: list[SubstanceEntity] = Field(default_factory=list, description=\"Substances mentioned by the client\")\n",
    "\n",
    "class EmotionalState(BaseModel):\n",
    "    \"\"\"Current emotional state assessment\"\"\"\n",
    "    primary_emotions: list[str] = Field(description=\"Main emotions the client is experiencing\")\n",
    "    emotional_intensity: int = Field(ge=1, le=10, description=\"Intensity of emotions on a scale of 1-10\")\n",
    "    emotional_stability: Literal[\"stable\", \"fluctuating\", \"volatile\"] = Field(description=\"How stable the client's emotions appear\")\n",
    "\n",
    "class TraumaIndicator(BaseModel):\n",
    "    \"\"\"Identified trauma indicator\"\"\"\n",
    "    indicator: str = Field(description=\"Specific trauma indicator observed\")\n",
    "    severity: Literal[\"mild\", \"moderate\", \"severe\"] = Field(description=\"Severity level of this trauma indicator\")\n",
    "    origin: Literal[\"childhood\", \"adult\", \"unknown\"] = Field(description=\"Likely origin period of this trauma\")\n",
    "\n",
    "class CopingMechanisms(BaseModel):\n",
    "    \"\"\"Identified coping strategies\"\"\"\n",
    "    healthy: list[str] = Field(default_factory=list, description=\"Healthy coping mechanisms the client uses\")\n",
    "    unhealthy: list[str] = Field(default_factory=list, description=\"Unhealthy but not necessarily harmful coping mechanisms\")\n",
    "    maladaptive: list[str] = Field(default_factory=list, description=\"Maladaptive or harmful coping mechanisms\")\n",
    "\n",
    "class SelfPerception(BaseModel):\n",
    "    \"\"\"Client's self-perception assessment\"\"\"\n",
    "    adult_self_rating: int | None = Field(default=None, ge=1, le=10, description=\"How well the adult self is functioning (1-10 scale)\")\n",
    "    child_self_rating: int | None = Field(default=None, ge=1, le=10, description=\"How activated/distressed the child self appears (1-10 scale)\")\n",
    "    self_criticism_level: Literal[\"low\", \"medium\", \"high\"] = Field(description=\"Level of self-criticism observed\")\n",
    "    self_compassion_level: Literal[\"low\", \"medium\", \"high\"] = Field(description=\"Level of self-compassion observed\")\n",
    "\n",
    "class RelationshipPattern(BaseModel):\n",
    "    \"\"\"Identified relationship pattern\"\"\"\n",
    "    pattern: str = Field(description=\"Description of the relationship pattern\")\n",
    "    frequency: str = Field(description=\"How often this pattern occurs\")\n",
    "    trauma_connection: str = Field(description=\"How this pattern connects to trauma or childhood experiences\")\n",
    "\n",
    "class TherapeuticOpportunityAnalysis(BaseModel):\n",
    "    \"\"\"Identified therapeutic opportunities\"\"\"\n",
    "    perspective_shifting_moments: list[str] = Field(default_factory=list, description=\"Moments where perspective shifting could be helpful\")\n",
    "    compassion_building_opportunities: list[str] = Field(default_factory=list, description=\"Opportunities to build self-compassion\")\n",
    "    adult_self_activation_points: list[str] = Field(default_factory=list, description=\"Points where the adult self could be activated\")\n",
    "    trauma_processing_areas: list[str] = Field(default_factory=list, description=\"Areas that need trauma processing work\")\n",
    "\n",
    "class SessionRecommendationAnalysis(BaseModel):\n",
    "    \"\"\"Session recommendations from analysis\"\"\"\n",
    "    immediate_interventions: list[str] = Field(default_factory=list, description=\"Interventions needed immediately in this session\")\n",
    "    homework_suggestions: list[str] = Field(default_factory=list, description=\"Suggested homework or practice for between sessions\")\n",
    "    follow_up_areas: list[str] = Field(default_factory=list, description=\"Areas to follow up on in future sessions\")\n",
    "    crisis_monitoring: list[str] = Field(default_factory=list, description=\"Areas that need crisis monitoring\")\n",
    "\n",
    "class ProgressIndicators(BaseModel):\n",
    "    \"\"\"Signs of progress or concern\"\"\"\n",
    "    positive_signs: list[str] = Field(default_factory=list, description=\"Positive signs of therapeutic progress\")\n",
    "    concerning_patterns: list[str] = Field(default_factory=list, description=\"Patterns that are concerning or need attention\")\n",
    "    therapeutic_alliance: Literal[\"strong\", \"developing\", \"weak\"] = Field(description=\"Strength of the therapeutic relationship\")\n",
    "    insight_level: Literal[\"high\", \"medium\", \"low\"] = Field(description=\"Client's level of psychological insight\")\n",
    "\n",
    "class SessionMetadataAnalysis(BaseModel):\n",
    "    \"\"\"Session metadata from analysis\"\"\"\n",
    "    timestamp: str = Field(description=\"Current timestamp\")\n",
    "    session_focus: str = Field(description=\"Main focus or theme of this session\")\n",
    "    dominant_psychological_state: Literal[\"child_self\", \"adult_self\", \"mixed\"] = Field(description=\"Which psychological state is most dominant\")\n",
    "    crisis_level: Literal[\"low\", \"medium\", \"high\"] = Field(description=\"Level of crisis or immediate concern\")\n",
    "\n",
    "class PsychologicalAssessmentAnalysis(BaseModel):\n",
    "    \"\"\"Comprehensive psychological assessment\"\"\"\n",
    "    emotional_state: EmotionalState = Field(description=\"Current emotional state assessment\")\n",
    "    trauma_indicators: list[TraumaIndicator] = Field(default_factory=list, description=\"Identified trauma indicators\")\n",
    "    coping_mechanisms: CopingMechanisms = Field(description=\"Assessment of coping strategies\")\n",
    "    self_perception: SelfPerception = Field(description=\"Client's self-perception assessment\")\n",
    "    relationship_patterns: list[RelationshipPattern] = Field(default_factory=list, description=\"Identified relationship patterns\")\n",
    "\n",
    "class DualBrainAnalysis(BaseModel):\n",
    "    \"\"\"Complete Dual Brain Psychology analysis of client response\"\"\"\n",
    "    session_metadata: SessionMetadataAnalysis = Field(description=\"Session metadata and context\")\n",
    "    named_entities: NamedEntities = Field(description=\"Named entities extracted from client response\")\n",
    "    psychological_assessment: PsychologicalAssessmentAnalysis = Field(description=\"Comprehensive psychological assessment\")\n",
    "    therapeutic_opportunities: TherapeuticOpportunityAnalysis = Field(description=\"Identified therapeutic opportunities\")\n",
    "    session_recommendations: SessionRecommendationAnalysis = Field(description=\"Recommendations for current and future sessions\")\n",
    "    progress_indicators: ProgressIndicators = Field(description=\"Signs of progress or areas of concern\")"
   ]
  },
  {
   "cell_type": "markdown",
   "id": "017837e3",
   "metadata": {},
   "source": [
    "### Initial state"
   ]
  },
  {
   "cell_type": "code",
   "execution_count": 101,
   "id": "327e8cae",
   "metadata": {},
   "outputs": [],
   "source": [
    "def create_initial_state(client_id: str = \"default_client\", client_name: str = \"Unknown\") -> State:\n",
    "    \"\"\"\n",
    "    Create an initial state for a new therapy session.\n",
    "    \"\"\"\n",
    "    \n",
    "    return State(\n",
    "        messages=[],\n",
    "        session_metadata=SessionState(\n",
    "            session_focus=\"Initial assessment\",\n",
    "            dominant_psychological_state=\"mixed\",\n",
    "            crisis_level=\"low\",\n",
    "            session_stage=\"opening\"\n",
    "        ),\n",
    "        client_profile=ClientProfile(\n",
    "            client_id=client_id,\n",
    "            client_name=client_name\n",
    "        ),\n",
    "        psychological_assessment=PsychologicalAssessment(),\n",
    "        therapeutic_opportunities=TherapeuticOpportunities(),\n",
    "        session_recommendations=SessionRecommendations(),\n",
    "        analysis_results=AnalysisResults()\n",
    "    )"
   ]
  },
  {
   "cell_type": "code",
   "execution_count": 102,
   "id": "467fdb69",
   "metadata": {},
   "outputs": [],
   "source": [
    "state=SessionState(session_focus=\"Initial session focus\")"
   ]
  },
  {
   "cell_type": "code",
   "execution_count": 103,
   "id": "89109f50",
   "metadata": {},
   "outputs": [
    {
     "data": {
      "text/plain": [
       "'opening'"
      ]
     },
     "execution_count": 103,
     "metadata": {},
     "output_type": "execute_result"
    }
   ],
   "source": [
    "state.session_stage"
   ]
  }
 ],
 "metadata": {
  "kernelspec": {
   "display_name": "ai_env (3.12.3)",
   "language": "python",
   "name": "python3"
  },
  "language_info": {
   "codemirror_mode": {
    "name": "ipython",
    "version": 3
   },
   "file_extension": ".py",
   "mimetype": "text/x-python",
   "name": "python",
   "nbconvert_exporter": "python",
   "pygments_lexer": "ipython3",
   "version": "3.12.3"
  }
 },
 "nbformat": 4,
 "nbformat_minor": 5
}
