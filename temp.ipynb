{
 "cells": [
  {
   "cell_type": "code",
   "execution_count": 1,
   "id": "0bd52440",
   "metadata": {},
   "outputs": [
    {
     "data": {
      "image/png": "[encoded data removed]",
      "text/plain": [
       "<langgraph.graph.state.CompiledStateGraph object at 0x0000024FB24D9250>"
      ]
     },
     "execution_count": 1,
     "metadata": {},
     "output_type": "execute_result"
    }
   ],
   "source": [
    "from langgraph.graph import StateGraph, START, END\n",
    "from langgraph.checkpoint.memory import InMemorySaver\n",
    "from prompts import doctor_prompt, language_safety_prompt, ner_prompt\n",
    "from langgraph.graph.message import add_messages\n",
    "from langchain_core.messages import BaseMessage, SystemMessage, HumanMessage, AIMessage\n",
    "from langchain_groq import ChatGroq\n",
    "from typing import TypedDict, Literal, Annotated\n",
    "from pydantic import Field, BaseModel\n",
    "from dotenv import load_dotenv\n",
    "import operator\n",
    "import json\n",
    "import sqlite3\n",
    "from datetime import datetime\n",
    "import pickle\n",
    "import base64\n",
    "import uuid\n",
    "import os\n",
    "\n",
    "load_dotenv()\n",
    "\n",
    "NER_FILE = \"ner_data.json\"\n",
    "\n",
    "model = ChatGroq(model=\"llama-3.1-8b-instant\")\n",
    "\n",
    "class State(TypedDict):\n",
    "    messages:Annotated[list[BaseMessage], add_messages]\n",
    "    session_id:str\n",
    "    time_stamps: Annotated[list[datetime], operator.add]\n",
    "    ner_entities: Annotated[list[str], operator.add]\n",
    "    # ner_entities: dict\n",
    "\n",
    "class PersonEntity(BaseModel):\n",
    "    \"\"\"Named person in the client's narrative\"\"\"\n",
    "    name: str = Field(description=\"Name of the person mentioned\")\n",
    "    relationship: str = Field(description=\"Relationship to the client (e.g., 'mother', 'ex-partner', 'friend', 'self')\")\n",
    "    significance: str = Field(description=\"Why this person is significant in the therapeutic context\", default=\"\")\n",
    "    emotional_charge: Literal[\"positive\", \"negative\", \"neutral\"] = Field(description=\"Emotional association the client has with this person\", default=\"neutral\")\n",
    "\n",
    "class PlaceEntity(BaseModel):\n",
    "    \"\"\"Named place in the client's narrative\"\"\"\n",
    "    location: str = Field(description=\"Name or description of the place\")\n",
    "    context: str = Field(description=\"Context in which this place was mentioned\")\n",
    "    emotional_association: str = Field(description=\"Emotional significance of this place to the client\")\n",
    "\n",
    "class EventEntity(BaseModel):\n",
    "    \"\"\"Significant event in the client's narrative\"\"\"\n",
    "    event: str = Field(description=\"Description of the event\")\n",
    "    timeframe: str = Field(description=\"When this event occurred (e.g., 'childhood', 'last year', 'recently')\")\n",
    "    trauma_relevance: Literal[\"high\", \"medium\", \"low\"] = Field(description=\"How relevant this event is to trauma processing\")\n",
    "    description: str = Field(description=\"Additional therapeutic context about this event\")\n",
    "\n",
    "class SubstanceEntity(BaseModel):\n",
    "    \"\"\"Substance use mentioned by client\"\"\"\n",
    "    substance: str = Field(description=\"Type of substance (alcohol, drugs, medication, etc.)\")\n",
    "    usage_pattern: str = Field(description=\"How the substance is being used\")\n",
    "    context: str = Field(description=\"Context around substance use - coping mechanism, medical, social, etc.\")\n",
    "\n",
    "class NamedEntity(BaseModel):\n",
    "    people: list[PersonEntity] = Field(default_factory=list, description=\"People mentioned by the client\")\n",
    "    places: list[PlaceEntity] = Field(default_factory=list, description=\"Places mentioned by the client\")\n",
    "    events: list[EventEntity] = Field(default_factory=list, description=\"Significant events mentioned by the client\")\n",
    "    substances: list[SubstanceEntity] = Field(default_factory=list, description=\"Substances mentioned by the client\")\n",
    "\n",
    "#functions to handle json file\n",
    "\n",
    "def load_ner_file():\n",
    "    if os.path.exists(NER_FILE):\n",
    "        with open(NER_FILE, \"r\", encoding=\"utf-8\") as f:\n",
    "            return json.load(f)\n",
    "    return {\"people\": [], \"places\": [], \"events\": [], \"substances\": []}\n",
    "\n",
    "def save_ner_file(data):\n",
    "    with open(NER_FILE, \"w\", encoding=\"utf-8\") as f:\n",
    "        json.dump(data, f, indent=4, ensure_ascii=False)\n",
    "\n",
    "# function to handle nodes\n",
    "\n",
    "def ner_node(state: State):\n",
    "    \"\"\"Extract NER entities with structured output\"\"\"\n",
    "    msg=state['messages'][-1].content\n",
    "    structured_model = model.with_structured_output(NamedEntity)\n",
    "\n",
    "    msg_prompt = f\"\"\"Extract all named entities from this Message: {msg}\"\"\"\n",
    "    \n",
    "    ner_result = structured_model.invoke([SystemMessage(content=ner_prompt),\n",
    "        HumanMessage(content=msg_prompt)\n",
    "    ])\n",
    "    \n",
    "    return {\n",
    "        \"ner_entities\": [ner_result]\n",
    "    }\n",
    "\n",
    "def chat_node(state: State):\n",
    "    \"\"\"A therapeutic chat node\"\"\"\n",
    "\n",
    "    response = model.invoke([SystemMessage(content=doctor_prompt)] + state[\"messages\"])\n",
    "    return {\"messages\": [response]}\n",
    "\n",
    "def language_safety_node(state: State):\n",
    "    msg_prompt = f\"Message: {state['messages'][-1].content}\"\n",
    "    safe_response = model.invoke([SystemMessage(content=language_safety_prompt), HumanMessage(content=msg_prompt)])\n",
    "    return {\"messages\": [AIMessage(content=safe_response.content)]}\n",
    "\n",
    "\n",
    "checkpointer= InMemorySaver()\n",
    "graph=StateGraph(State)\n",
    "graph.add_node(\"chat_node\",chat_node)\n",
    "graph.add_node(\"ner_node\", ner_node)\n",
    "graph.add_node(\"language_safety_node\", language_safety_node)\n",
    "\n",
    "graph.add_edge(START,\"chat_node\")\n",
    "graph.add_edge(START,\"ner_node\")\n",
    "graph.add_edge(\"chat_node\",\"language_safety_node\")\n",
    "graph.add_edge(\"ner_node\",END)\n",
    "graph.add_edge(\"language_safety_node\",END)\n",
    "\n",
    "chatbot=graph.compile(checkpointer=checkpointer)\n",
    "chatbot"
   ]
  },
  {
   "cell_type": "code",
   "execution_count": 2,
   "id": "51c9d574",
   "metadata": {},
   "outputs": [],
   "source": [
    "CONFIG={\"configurable\": {\"thread_id\": \"1\"}}"
   ]
  },
  {
   "cell_type": "code",
   "execution_count": 4,
   "id": "3ac142f2",
   "metadata": {},
   "outputs": [
    {
     "data": {
      "text/plain": [
       "{'messages': [HumanMessage(content='Hi I am fayaz', additional_kwargs={}, response_metadata={}, id='16729eb8-149e-4e05-b59c-8b1b940ad961'),\n",
       "  AIMessage(content=\"Mm-hmm, Fayaz, nice to meet you. It's great that you've taken this step to work through some challenges. Before we begin, I want to assure you that everything we discuss in this session is completely confidential and safe. What brings you here today, Fayaz? What's been on your mind lately?\", additional_kwargs={}, response_metadata={'token_usage': {'completion_tokens': 68, 'prompt_tokens': 1025, 'total_tokens': 1093, 'completion_time': 0.13033468, 'prompt_time': 0.182636805, 'queue_time': 0.002080796, 'total_time': 0.312971485}, 'model_name': 'llama-3.1-8b-instant', 'system_fingerprint': 'fp_2a85b31419', 'service_tier': 'on_demand', 'finish_reason': 'stop', 'logprobs': None}, id='run--8399fb3e-bfa7-4184-aac2-b7d34edeb957-0', usage_metadata={'input_tokens': 1025, 'output_tokens': 68, 'total_tokens': 1093}),\n",
       "  AIMessage(content=\"Mm-hmm, Fayaz, nice to meet you. It's great that you've taken this step to explore some areas of discomfort. Before we begin, I want to assure you that everything we discuss in this session is completely confidential and safe. What brings you here today, Fayaz? What kind of stress or emotional pressure has been weighing on you lately?\", additional_kwargs={}, response_metadata={}, id='47124ef3-fc1a-48e3-b060-62836ce3d6a1'),\n",
       "  HumanMessage(content='How are you doctor', additional_kwargs={}, response_metadata={}, id='bb700b89-0a49-49cb-810e-7aab18985453'),\n",
       "  AIMessage(content=\"I'm doing well, thank you for asking, Fayaz. I'm feeling pretty calm and centered today, which is great because it allows me to be a better listener for you. You know, it's kind of like how you have a calm and centered adult part of you, right? The part that can take care of yourself and make good decisions.\\n\\nNow, let's get back to you. Can you tell me a bit more about what's been going on that's been causing you stress or discomfort? What's been on your mind lately?\", additional_kwargs={}, response_metadata={'token_usage': {'completion_tokens': 112, 'prompt_tokens': 1185, 'total_tokens': 1297, 'completion_time': 0.337252494, 'prompt_time': 0.199869771, 'queue_time': 0.002764042, 'total_time': 0.537122265}, 'model_name': 'llama-3.1-8b-instant', 'system_fingerprint': 'fp_2a85b31419', 'service_tier': 'on_demand', 'finish_reason': 'stop', 'logprobs': None}, id='run--c0b7640d-09fa-4424-ab02-c7592f846a69-0', usage_metadata={'input_tokens': 1185, 'output_tokens': 112, 'total_tokens': 1297}),\n",
       "  AIMessage(content=\"I'm doing great, thanks for checking in, Fayaz. I'm feeling pretty grounded today, which is awesome because it lets me be a better listener for you. You know, it's kind of like how you have a mature mind that can take care of yourself and make wise decisions.\\n\\nNow, let's get back to you. Can you tell me a bit more about what's been going on that's been causing you emotional pressure or discomfort? What's been on your mind lately?\", additional_kwargs={}, response_metadata={}, id='b818b4b3-9642-4e22-bb9e-7db6b2bd3738')],\n",
       " 'time_stamps': [],\n",
       " 'ner_entities': [NamedEntity(people=[PersonEntity(name='fayaz', relationship='self', significance='', emotional_charge='neutral')], places=[], events=[], substances=[]),\n",
       "  NamedEntity(people=[PersonEntity(name='doctor', relationship='professional', significance='', emotional_charge='neutral')], places=[], events=[], substances=[])]}"
      ]
     },
     "execution_count": 4,
     "metadata": {},
     "output_type": "execute_result"
    }
   ],
   "source": [
    "chatbot.invoke({\"messages\":[HumanMessage(content=\"How are you doctor\")]},config=CONFIG)"
   ]
  }
 ],
 "metadata": {
  "kernelspec": {
   "display_name": "venv",
   "language": "python",
   "name": "python3"
  },
  "language_info": {
   "codemirror_mode": {
    "name": "ipython",
    "version": 3
   },
   "file_extension": ".py",
   "mimetype": "text/x-python",
   "name": "python",
   "nbconvert_exporter": "python",
   "pygments_lexer": "ipython3",
   "version": "3.12.7"
  }
 },
 "nbformat": 4,
 "nbformat_minor": 5
}
